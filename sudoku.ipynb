{
 "cells": [
  {
   "cell_type": "code",
   "execution_count": 1,
   "id": "7bb14f28",
   "metadata": {},
   "outputs": [
    {
     "name": "stdout",
     "output_type": "stream",
     "text": [
      "2 5 8 7 3 6 9 4 1 \n",
      "6 1 9 8 2 4 3 5 7 \n",
      "4 3 7 9 1 5 2 6 8 \n",
      "3 9 5 2 7 1 4 8 6 \n",
      "7 6 2 4 9 8 1 3 5 \n",
      "8 4 1 6 5 3 7 2 9 \n",
      "1 8 4 3 6 9 5 7 2 \n",
      "5 7 6 1 4 2 8 9 3 \n",
      "9 2 3 5 8 7 6 1 4 \n"
     ]
    }
   ],
   "source": [
    "m = 9\n",
    "def puzzle(a):\n",
    "    for i in range(m):\n",
    "        for j in range(m):\n",
    "            print(a[i][j], end=\" \")\n",
    "        print()\n",
    "def solve(grid, row, col, num):\n",
    "    for x in range(m):\n",
    "        if grid[row][x] == num:\n",
    "            return False\n",
    "    for x in range(m):\n",
    "        if grid[x][col] == num:\n",
    "            return False\n",
    "    startrow = row - row % 3\n",
    "    startcol = col - col % 3\n",
    "    for i in range(3):\n",
    "        for j in range(3):\n",
    "            if grid[i + startrow][j + startcol] == num:\n",
    "                return False\n",
    "    return True\n",
    "\n",
    "def sudoku(grid, row, col):\n",
    "    if row == m:\n",
    "\n",
    "        return True\n",
    "    if col == m:\n",
    "\n",
    "        return sudoku(grid, row + 1, 0)\n",
    "    if grid[row][col] > 0:\n",
    "\n",
    "        return sudoku(grid, row, col + 1)\n",
    "    for num in range(1, m + 1):\n",
    "        if solve(grid, row, col, num):\n",
    "            grid[row][col] = num\n",
    "            if sudoku(grid, row, col + 1):\n",
    "                return True\n",
    "\n",
    "            grid[row][col] = 0\n",
    "    return False\n",
    "grid=[[2,5,0,0,3,0,9,0,1],\n",
    "      [0,1,0,0,0,4,0,0,0],\n",
    "      [4,0,7,0,0,0,2,0,8],\n",
    "      [0,0,5,2,0,0,0,0,0],\n",
    "      [0,0,0,0,9,8,1,0,0],\n",
    "      [0,4,0,0,0,3,0,0,0],\n",
    "      [0,0,0,3,6,0,0,7,2],\n",
    "      [0,7,0,0,0,0,0,0,3],\n",
    "      [9,0,3,0,0,0,6,0,4]]\n",
    "if sudoku(grid, 0, 0):\n",
    "    puzzle(grid)\n",
    "else:\n",
    "    print(\"No solution exists.\")"
   ]
  },
  {
   "cell_type": "code",
   "execution_count": null,
   "id": "a95386bd",
   "metadata": {},
   "outputs": [],
   "source": []
  }
 ],
 "metadata": {
  "kernelspec": {
   "display_name": "Python 3 (ipykernel)",
   "language": "python",
   "name": "python3"
  },
  "language_info": {
   "codemirror_mode": {
    "name": "ipython",
    "version": 3
   },
   "file_extension": ".py",
   "mimetype": "text/x-python",
   "name": "python",
   "nbconvert_exporter": "python",
   "pygments_lexer": "ipython3",
   "version": "3.10.9"
  }
 },
 "nbformat": 4,
 "nbformat_minor": 5
}
